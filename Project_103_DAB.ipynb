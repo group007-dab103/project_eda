{
 "cells": [
  {
   "cell_type": "code",
   "execution_count": 1,
   "id": "36dca312",
   "metadata": {},
   "outputs": [],
   "source": [
    "#import the useful libraries.\n",
    "import numpy as np\n",
    "import pandas as pd\n",
    "import seaborn as sns\n",
    "import matplotlib.pyplot as plt\n",
    "%matplotlib inline"
   ]
  },
  {
   "cell_type": "code",
   "execution_count": 2,
   "id": "330c059e",
   "metadata": {},
   "outputs": [
    {
     "data": {
      "text/html": [
       "<div>\n",
       "<style scoped>\n",
       "    .dataframe tbody tr th:only-of-type {\n",
       "        vertical-align: middle;\n",
       "    }\n",
       "\n",
       "    .dataframe tbody tr th {\n",
       "        vertical-align: top;\n",
       "    }\n",
       "\n",
       "    .dataframe thead th {\n",
       "        text-align: right;\n",
       "    }\n",
       "</style>\n",
       "<table border=\"1\" class=\"dataframe\">\n",
       "  <thead>\n",
       "    <tr style=\"text-align: right;\">\n",
       "      <th></th>\n",
       "      <th>REF_DATE</th>\n",
       "      <th>GEO</th>\n",
       "      <th>DGUID</th>\n",
       "      <th>Characteristics of potable water use</th>\n",
       "      <th>UOM</th>\n",
       "      <th>UOM_ID</th>\n",
       "      <th>SCALAR_FACTOR</th>\n",
       "      <th>SCALAR_ID</th>\n",
       "      <th>VECTOR</th>\n",
       "      <th>COORDINATE</th>\n",
       "      <th>VALUE</th>\n",
       "      <th>STATUS</th>\n",
       "      <th>SYMBOL</th>\n",
       "      <th>TERMINATED</th>\n",
       "      <th>DECIMALS</th>\n",
       "    </tr>\n",
       "  </thead>\n",
       "  <tbody>\n",
       "    <tr>\n",
       "      <th>0</th>\n",
       "      <td>2011</td>\n",
       "      <td>Canada</td>\n",
       "      <td>2016A000011124</td>\n",
       "      <td>Total potable water volume, all sectors of use</td>\n",
       "      <td>Cubic metres</td>\n",
       "      <td>72</td>\n",
       "      <td>millions</td>\n",
       "      <td>6</td>\n",
       "      <td>v91504388</td>\n",
       "      <td>1.1</td>\n",
       "      <td>5123.7</td>\n",
       "      <td>A</td>\n",
       "      <td>NaN</td>\n",
       "      <td>NaN</td>\n",
       "      <td>1</td>\n",
       "    </tr>\n",
       "    <tr>\n",
       "      <th>1</th>\n",
       "      <td>2011</td>\n",
       "      <td>Canada</td>\n",
       "      <td>2016A000011124</td>\n",
       "      <td>Residential sector</td>\n",
       "      <td>Cubic metres</td>\n",
       "      <td>72</td>\n",
       "      <td>millions</td>\n",
       "      <td>6</td>\n",
       "      <td>v91504389</td>\n",
       "      <td>1.2</td>\n",
       "      <td>2195.8</td>\n",
       "      <td>A</td>\n",
       "      <td>NaN</td>\n",
       "      <td>NaN</td>\n",
       "      <td>1</td>\n",
       "    </tr>\n",
       "    <tr>\n",
       "      <th>2</th>\n",
       "      <td>2011</td>\n",
       "      <td>Canada</td>\n",
       "      <td>2016A000011124</td>\n",
       "      <td>Industrial, commercial, institutional and othe...</td>\n",
       "      <td>Cubic metres</td>\n",
       "      <td>72</td>\n",
       "      <td>millions</td>\n",
       "      <td>6</td>\n",
       "      <td>v91504390</td>\n",
       "      <td>1.3</td>\n",
       "      <td>1108.1</td>\n",
       "      <td>A</td>\n",
       "      <td>NaN</td>\n",
       "      <td>NaN</td>\n",
       "      <td>1</td>\n",
       "    </tr>\n",
       "    <tr>\n",
       "      <th>3</th>\n",
       "      <td>2011</td>\n",
       "      <td>Canada</td>\n",
       "      <td>2016A000011124</td>\n",
       "      <td>Losses from the distribution system</td>\n",
       "      <td>Cubic metres</td>\n",
       "      <td>72</td>\n",
       "      <td>millions</td>\n",
       "      <td>6</td>\n",
       "      <td>v91504391</td>\n",
       "      <td>1.4</td>\n",
       "      <td>673.3</td>\n",
       "      <td>A</td>\n",
       "      <td>NaN</td>\n",
       "      <td>NaN</td>\n",
       "      <td>1</td>\n",
       "    </tr>\n",
       "    <tr>\n",
       "      <th>4</th>\n",
       "      <td>2011</td>\n",
       "      <td>Canada</td>\n",
       "      <td>2016A000011124</td>\n",
       "      <td>Wholesale water provided to other jurisdictions</td>\n",
       "      <td>Cubic metres</td>\n",
       "      <td>72</td>\n",
       "      <td>millions</td>\n",
       "      <td>6</td>\n",
       "      <td>v91504392</td>\n",
       "      <td>1.5</td>\n",
       "      <td>212.3</td>\n",
       "      <td>A</td>\n",
       "      <td>NaN</td>\n",
       "      <td>NaN</td>\n",
       "      <td>1</td>\n",
       "    </tr>\n",
       "  </tbody>\n",
       "</table>\n",
       "</div>"
      ],
      "text/plain": [
       "   REF_DATE     GEO           DGUID  \\\n",
       "0      2011  Canada  2016A000011124   \n",
       "1      2011  Canada  2016A000011124   \n",
       "2      2011  Canada  2016A000011124   \n",
       "3      2011  Canada  2016A000011124   \n",
       "4      2011  Canada  2016A000011124   \n",
       "\n",
       "                Characteristics of potable water use           UOM  UOM_ID  \\\n",
       "0     Total potable water volume, all sectors of use  Cubic metres      72   \n",
       "1                                 Residential sector  Cubic metres      72   \n",
       "2  Industrial, commercial, institutional and othe...  Cubic metres      72   \n",
       "3                Losses from the distribution system  Cubic metres      72   \n",
       "4    Wholesale water provided to other jurisdictions  Cubic metres      72   \n",
       "\n",
       "  SCALAR_FACTOR  SCALAR_ID     VECTOR  COORDINATE   VALUE STATUS  SYMBOL  \\\n",
       "0      millions          6  v91504388         1.1  5123.7      A     NaN   \n",
       "1      millions          6  v91504389         1.2  2195.8      A     NaN   \n",
       "2      millions          6  v91504390         1.3  1108.1      A     NaN   \n",
       "3      millions          6  v91504391         1.4   673.3      A     NaN   \n",
       "4      millions          6  v91504392         1.5   212.3      A     NaN   \n",
       "\n",
       "   TERMINATED  DECIMALS  \n",
       "0         NaN         1  \n",
       "1         NaN         1  \n",
       "2         NaN         1  \n",
       "3         NaN         1  \n",
       "4         NaN         1  "
      ]
     },
     "execution_count": 2,
     "metadata": {},
     "output_type": "execute_result"
    }
   ],
   "source": [
    " dataset = pd.read_csv('F:/DAB resources/portable water usage/38100271.csv')\n",
    " dataset.head() "
   ]
  },
  {
   "cell_type": "code",
   "execution_count": 10,
   "id": "c24f3fe5",
   "metadata": {},
   "outputs": [
    {
     "data": {
      "text/html": [
       "<div>\n",
       "<style scoped>\n",
       "    .dataframe tbody tr th:only-of-type {\n",
       "        vertical-align: middle;\n",
       "    }\n",
       "\n",
       "    .dataframe tbody tr th {\n",
       "        vertical-align: top;\n",
       "    }\n",
       "\n",
       "    .dataframe thead th {\n",
       "        text-align: right;\n",
       "    }\n",
       "</style>\n",
       "<table border=\"1\" class=\"dataframe\">\n",
       "  <thead>\n",
       "    <tr style=\"text-align: right;\">\n",
       "      <th></th>\n",
       "      <th>REF_DATE</th>\n",
       "      <th>GEO</th>\n",
       "      <th>DGUID</th>\n",
       "      <th>Characteristics of potable water use</th>\n",
       "      <th>UOM</th>\n",
       "      <th>UOM_ID</th>\n",
       "      <th>SCALAR_FACTOR</th>\n",
       "      <th>SCALAR_ID</th>\n",
       "      <th>VECTOR</th>\n",
       "      <th>COORDINATE</th>\n",
       "      <th>VALUE</th>\n",
       "      <th>STATUS</th>\n",
       "      <th>SYMBOL</th>\n",
       "      <th>TERMINATED</th>\n",
       "      <th>DECIMALS</th>\n",
       "    </tr>\n",
       "  </thead>\n",
       "  <tbody>\n",
       "    <tr>\n",
       "      <th>625</th>\n",
       "      <td>2019</td>\n",
       "      <td>Nunavut</td>\n",
       "      <td>2016A000262</td>\n",
       "      <td>Wholesale water provided to other jurisdictions</td>\n",
       "      <td>Cubic metres</td>\n",
       "      <td>72</td>\n",
       "      <td>millions</td>\n",
       "      <td>6</td>\n",
       "      <td>v91504509</td>\n",
       "      <td>14.5</td>\n",
       "      <td>0.0</td>\n",
       "      <td>E</td>\n",
       "      <td>NaN</td>\n",
       "      <td>NaN</td>\n",
       "      <td>1</td>\n",
       "    </tr>\n",
       "    <tr>\n",
       "      <th>626</th>\n",
       "      <td>2019</td>\n",
       "      <td>Nunavut</td>\n",
       "      <td>2016A000262</td>\n",
       "      <td>Sector of use unknown</td>\n",
       "      <td>Cubic metres</td>\n",
       "      <td>72</td>\n",
       "      <td>millions</td>\n",
       "      <td>6</td>\n",
       "      <td>v91504510</td>\n",
       "      <td>14.6</td>\n",
       "      <td>0.0</td>\n",
       "      <td>E</td>\n",
       "      <td>NaN</td>\n",
       "      <td>NaN</td>\n",
       "      <td>1</td>\n",
       "    </tr>\n",
       "    <tr>\n",
       "      <th>627</th>\n",
       "      <td>2019</td>\n",
       "      <td>Nunavut</td>\n",
       "      <td>2016A000262</td>\n",
       "      <td>Average daily total use per capita of the popu...</td>\n",
       "      <td>Litres per person per day</td>\n",
       "      <td>318</td>\n",
       "      <td>units</td>\n",
       "      <td>0</td>\n",
       "      <td>v91504511</td>\n",
       "      <td>14.7</td>\n",
       "      <td>254.0</td>\n",
       "      <td>B</td>\n",
       "      <td>NaN</td>\n",
       "      <td>NaN</td>\n",
       "      <td>0</td>\n",
       "    </tr>\n",
       "    <tr>\n",
       "      <th>628</th>\n",
       "      <td>2019</td>\n",
       "      <td>Nunavut</td>\n",
       "      <td>2016A000262</td>\n",
       "      <td>Average daily residential use per capita of th...</td>\n",
       "      <td>Litres per person per day</td>\n",
       "      <td>318</td>\n",
       "      <td>units</td>\n",
       "      <td>0</td>\n",
       "      <td>v91504512</td>\n",
       "      <td>14.8</td>\n",
       "      <td>136.0</td>\n",
       "      <td>B</td>\n",
       "      <td>NaN</td>\n",
       "      <td>NaN</td>\n",
       "      <td>0</td>\n",
       "    </tr>\n",
       "    <tr>\n",
       "      <th>629</th>\n",
       "      <td>2019</td>\n",
       "      <td>Nunavut</td>\n",
       "      <td>2016A000262</td>\n",
       "      <td>Responding population served for the average d...</td>\n",
       "      <td>Persons</td>\n",
       "      <td>249</td>\n",
       "      <td>units</td>\n",
       "      <td>0</td>\n",
       "      <td>v91504513</td>\n",
       "      <td>14.9</td>\n",
       "      <td>35560.0</td>\n",
       "      <td>B</td>\n",
       "      <td>NaN</td>\n",
       "      <td>NaN</td>\n",
       "      <td>0</td>\n",
       "    </tr>\n",
       "  </tbody>\n",
       "</table>\n",
       "</div>"
      ],
      "text/plain": [
       "     REF_DATE      GEO        DGUID  \\\n",
       "625      2019  Nunavut  2016A000262   \n",
       "626      2019  Nunavut  2016A000262   \n",
       "627      2019  Nunavut  2016A000262   \n",
       "628      2019  Nunavut  2016A000262   \n",
       "629      2019  Nunavut  2016A000262   \n",
       "\n",
       "                  Characteristics of potable water use  \\\n",
       "625    Wholesale water provided to other jurisdictions   \n",
       "626                              Sector of use unknown   \n",
       "627  Average daily total use per capita of the popu...   \n",
       "628  Average daily residential use per capita of th...   \n",
       "629  Responding population served for the average d...   \n",
       "\n",
       "                           UOM  UOM_ID SCALAR_FACTOR  SCALAR_ID     VECTOR  \\\n",
       "625               Cubic metres      72      millions          6  v91504509   \n",
       "626               Cubic metres      72      millions          6  v91504510   \n",
       "627  Litres per person per day     318         units          0  v91504511   \n",
       "628  Litres per person per day     318         units          0  v91504512   \n",
       "629                    Persons     249         units          0  v91504513   \n",
       "\n",
       "     COORDINATE    VALUE STATUS  SYMBOL  TERMINATED  DECIMALS  \n",
       "625        14.5      0.0      E     NaN         NaN         1  \n",
       "626        14.6      0.0      E     NaN         NaN         1  \n",
       "627        14.7    254.0      B     NaN         NaN         0  \n",
       "628        14.8    136.0      B     NaN         NaN         0  \n",
       "629        14.9  35560.0      B     NaN         NaN         0  "
      ]
     },
     "execution_count": 10,
     "metadata": {},
     "output_type": "execute_result"
    }
   ],
   "source": [
    "dataset.tail()"
   ]
  },
  {
   "cell_type": "markdown",
   "id": "9febd987",
   "metadata": {},
   "source": [
    "- Extract single row from dataframe"
   ]
  },
  {
   "cell_type": "code",
   "execution_count": 3,
   "id": "1efc5ac2",
   "metadata": {},
   "outputs": [
    {
     "data": {
      "text/plain": [
       "array([2011, 'Canada', '2016A000011124',\n",
       "       'Total potable water volume, all sectors of use', 'Cubic metres',\n",
       "       72, 'millions', 6, 'v91504388', 1.1, 5123.7, 'A', nan, nan, 1],\n",
       "      dtype=object)"
      ]
     },
     "execution_count": 3,
     "metadata": {},
     "output_type": "execute_result"
    }
   ],
   "source": [
    "dataset.values[0]"
   ]
  },
  {
   "cell_type": "code",
   "execution_count": 5,
   "id": "59e7741d",
   "metadata": {},
   "outputs": [
    {
     "data": {
      "text/plain": [
       "array([2011, 'Newfoundland and Labrador', '2016A000210',\n",
       "       'Total potable water volume, all sectors of use', 'Cubic metres',\n",
       "       72, 'millions', 6, 'v91504397', 2.1, 121.8, 'A', nan, nan, 1],\n",
       "      dtype=object)"
      ]
     },
     "execution_count": 5,
     "metadata": {},
     "output_type": "execute_result"
    }
   ],
   "source": [
    "dataset.values[9]"
   ]
  },
  {
   "cell_type": "markdown",
   "id": "85626e2c",
   "metadata": {},
   "source": [
    "- Extract specific cell"
   ]
  },
  {
   "cell_type": "code",
   "execution_count": 7,
   "id": "2934a8e0",
   "metadata": {},
   "outputs": [
    {
     "data": {
      "text/plain": [
       "'Ontario'"
      ]
     },
     "execution_count": 7,
     "metadata": {},
     "output_type": "execute_result"
    }
   ],
   "source": [
    "dataset.values[187,1]"
   ]
  },
  {
   "cell_type": "markdown",
   "id": "e2f9af75",
   "metadata": {},
   "source": [
    "- Extract specific cell"
   ]
  },
  {
   "cell_type": "code",
   "execution_count": 8,
   "id": "68ef951e",
   "metadata": {},
   "outputs": [
    {
     "data": {
      "text/plain": [
       "(630, 15)"
      ]
     },
     "execution_count": 8,
     "metadata": {},
     "output_type": "execute_result"
    }
   ],
   "source": [
    "dataset.shape"
   ]
  },
  {
   "cell_type": "markdown",
   "id": "86d3490b",
   "metadata": {},
   "source": [
    "Get the working directory"
   ]
  },
  {
   "cell_type": "code",
   "execution_count": 9,
   "id": "d64f9e1a",
   "metadata": {},
   "outputs": [],
   "source": [
    "import os"
   ]
  },
  {
   "cell_type": "code",
   "execution_count": 10,
   "id": "5e124e36",
   "metadata": {},
   "outputs": [
    {
     "data": {
      "text/plain": [
       "'C:\\\\Users\\\\MOHAMMED AMER'"
      ]
     },
     "execution_count": 10,
     "metadata": {},
     "output_type": "execute_result"
    }
   ],
   "source": [
    "os.getcwd()"
   ]
  },
  {
   "cell_type": "markdown",
   "id": "04cb0df1",
   "metadata": {},
   "source": [
    "- check for nulls and default data types"
   ]
  },
  {
   "cell_type": "code",
   "execution_count": 5,
   "id": "d7fd7eca",
   "metadata": {},
   "outputs": [
    {
     "name": "stdout",
     "output_type": "stream",
     "text": [
      "<class 'pandas.core.frame.DataFrame'>\n",
      "RangeIndex: 630 entries, 0 to 629\n",
      "Data columns (total 15 columns):\n",
      " #   Column                                Non-Null Count  Dtype  \n",
      "---  ------                                --------------  -----  \n",
      " 0   REF_DATE                              630 non-null    int64  \n",
      " 1   GEO                                   630 non-null    object \n",
      " 2   DGUID                                 630 non-null    object \n",
      " 3   Characteristics of potable water use  630 non-null    object \n",
      " 4   UOM                                   630 non-null    object \n",
      " 5   UOM_ID                                630 non-null    int64  \n",
      " 6   SCALAR_FACTOR                         630 non-null    object \n",
      " 7   SCALAR_ID                             630 non-null    int64  \n",
      " 8   VECTOR                                630 non-null    object \n",
      " 9   COORDINATE                            630 non-null    float64\n",
      " 10  VALUE                                 623 non-null    float64\n",
      " 11  STATUS                                624 non-null    object \n",
      " 12  SYMBOL                                0 non-null      float64\n",
      " 13  TERMINATED                            0 non-null      float64\n",
      " 14  DECIMALS                              630 non-null    int64  \n",
      "dtypes: float64(4), int64(4), object(7)\n",
      "memory usage: 74.0+ KB\n"
     ]
    }
   ],
   "source": [
    "dataset.info()"
   ]
  },
  {
   "cell_type": "markdown",
   "id": "e11d5e4c",
   "metadata": {},
   "source": [
    "- Check the number of nulls\n",
    "- Does this agree with the number of nulls you observed by running the df.info command?"
   ]
  },
  {
   "cell_type": "code",
   "execution_count": 6,
   "id": "dfc39893",
   "metadata": {},
   "outputs": [
    {
     "data": {
      "text/plain": [
       "REF_DATE                                  0\n",
       "GEO                                       0\n",
       "DGUID                                     0\n",
       "Characteristics of potable water use      0\n",
       "UOM                                       0\n",
       "UOM_ID                                    0\n",
       "SCALAR_FACTOR                             0\n",
       "SCALAR_ID                                 0\n",
       "VECTOR                                    0\n",
       "COORDINATE                                0\n",
       "VALUE                                     7\n",
       "STATUS                                    6\n",
       "SYMBOL                                  630\n",
       "TERMINATED                              630\n",
       "DECIMALS                                  0\n",
       "dtype: int64"
      ]
     },
     "execution_count": 6,
     "metadata": {},
     "output_type": "execute_result"
    }
   ],
   "source": [
    "dataset.isnull().sum()"
   ]
  },
  {
   "cell_type": "code",
   "execution_count": 8,
   "id": "e2dd7527",
   "metadata": {},
   "outputs": [
    {
     "data": {
      "text/plain": [
       "Index(['REF_DATE', 'GEO', 'DGUID', 'Characteristics of potable water use',\n",
       "       'UOM', 'UOM_ID', 'SCALAR_FACTOR', 'SCALAR_ID', 'VECTOR', 'COORDINATE',\n",
       "       'VALUE', 'STATUS', 'SYMBOL', 'TERMINATED', 'DECIMALS'],\n",
       "      dtype='object')"
      ]
     },
     "execution_count": 8,
     "metadata": {},
     "output_type": "execute_result"
    }
   ],
   "source": [
    "# Extract column names\n",
    "dataset.columns"
   ]
  },
  {
   "cell_type": "code",
   "execution_count": 9,
   "id": "95647a5f",
   "metadata": {},
   "outputs": [
    {
     "data": {
      "text/html": [
       "<div>\n",
       "<style scoped>\n",
       "    .dataframe tbody tr th:only-of-type {\n",
       "        vertical-align: middle;\n",
       "    }\n",
       "\n",
       "    .dataframe tbody tr th {\n",
       "        vertical-align: top;\n",
       "    }\n",
       "\n",
       "    .dataframe thead th {\n",
       "        text-align: right;\n",
       "    }\n",
       "</style>\n",
       "<table border=\"1\" class=\"dataframe\">\n",
       "  <thead>\n",
       "    <tr style=\"text-align: right;\">\n",
       "      <th></th>\n",
       "      <th>REF_DATE</th>\n",
       "      <th>UOM_ID</th>\n",
       "      <th>SCALAR_ID</th>\n",
       "      <th>COORDINATE</th>\n",
       "      <th>VALUE</th>\n",
       "      <th>SYMBOL</th>\n",
       "      <th>TERMINATED</th>\n",
       "      <th>DECIMALS</th>\n",
       "    </tr>\n",
       "  </thead>\n",
       "  <tbody>\n",
       "    <tr>\n",
       "      <th>count</th>\n",
       "      <td>630.000000</td>\n",
       "      <td>630.000000</td>\n",
       "      <td>630.000000</td>\n",
       "      <td>630.000000</td>\n",
       "      <td>6.230000e+02</td>\n",
       "      <td>0.0</td>\n",
       "      <td>0.0</td>\n",
       "      <td>630.000000</td>\n",
       "    </tr>\n",
       "    <tr>\n",
       "      <th>mean</th>\n",
       "      <td>2015.000000</td>\n",
       "      <td>146.333333</td>\n",
       "      <td>4.000000</td>\n",
       "      <td>8.000000</td>\n",
       "      <td>4.478529e+05</td>\n",
       "      <td>NaN</td>\n",
       "      <td>NaN</td>\n",
       "      <td>0.666667</td>\n",
       "    </tr>\n",
       "    <tr>\n",
       "      <th>std</th>\n",
       "      <td>2.830675</td>\n",
       "      <td>106.872285</td>\n",
       "      <td>2.830675</td>\n",
       "      <td>4.042599</td>\n",
       "      <td>2.776010e+06</td>\n",
       "      <td>NaN</td>\n",
       "      <td>NaN</td>\n",
       "      <td>0.471779</td>\n",
       "    </tr>\n",
       "    <tr>\n",
       "      <th>min</th>\n",
       "      <td>2011.000000</td>\n",
       "      <td>72.000000</td>\n",
       "      <td>0.000000</td>\n",
       "      <td>1.100000</td>\n",
       "      <td>0.000000e+00</td>\n",
       "      <td>NaN</td>\n",
       "      <td>NaN</td>\n",
       "      <td>0.000000</td>\n",
       "    </tr>\n",
       "    <tr>\n",
       "      <th>25%</th>\n",
       "      <td>2013.000000</td>\n",
       "      <td>72.000000</td>\n",
       "      <td>0.000000</td>\n",
       "      <td>4.500000</td>\n",
       "      <td>5.900000e+00</td>\n",
       "      <td>NaN</td>\n",
       "      <td>NaN</td>\n",
       "      <td>0.000000</td>\n",
       "    </tr>\n",
       "    <tr>\n",
       "      <th>50%</th>\n",
       "      <td>2015.000000</td>\n",
       "      <td>72.000000</td>\n",
       "      <td>6.000000</td>\n",
       "      <td>8.000000</td>\n",
       "      <td>1.264000e+02</td>\n",
       "      <td>NaN</td>\n",
       "      <td>NaN</td>\n",
       "      <td>1.000000</td>\n",
       "    </tr>\n",
       "    <tr>\n",
       "      <th>75%</th>\n",
       "      <td>2017.000000</td>\n",
       "      <td>249.000000</td>\n",
       "      <td>6.000000</td>\n",
       "      <td>11.500000</td>\n",
       "      <td>4.730500e+02</td>\n",
       "      <td>NaN</td>\n",
       "      <td>NaN</td>\n",
       "      <td>1.000000</td>\n",
       "    </tr>\n",
       "    <tr>\n",
       "      <th>max</th>\n",
       "      <td>2019.000000</td>\n",
       "      <td>318.000000</td>\n",
       "      <td>6.000000</td>\n",
       "      <td>14.900000</td>\n",
       "      <td>3.150604e+07</td>\n",
       "      <td>NaN</td>\n",
       "      <td>NaN</td>\n",
       "      <td>1.000000</td>\n",
       "    </tr>\n",
       "  </tbody>\n",
       "</table>\n",
       "</div>"
      ],
      "text/plain": [
       "          REF_DATE      UOM_ID   SCALAR_ID  COORDINATE         VALUE  SYMBOL  \\\n",
       "count   630.000000  630.000000  630.000000  630.000000  6.230000e+02     0.0   \n",
       "mean   2015.000000  146.333333    4.000000    8.000000  4.478529e+05     NaN   \n",
       "std       2.830675  106.872285    2.830675    4.042599  2.776010e+06     NaN   \n",
       "min    2011.000000   72.000000    0.000000    1.100000  0.000000e+00     NaN   \n",
       "25%    2013.000000   72.000000    0.000000    4.500000  5.900000e+00     NaN   \n",
       "50%    2015.000000   72.000000    6.000000    8.000000  1.264000e+02     NaN   \n",
       "75%    2017.000000  249.000000    6.000000   11.500000  4.730500e+02     NaN   \n",
       "max    2019.000000  318.000000    6.000000   14.900000  3.150604e+07     NaN   \n",
       "\n",
       "       TERMINATED    DECIMALS  \n",
       "count         0.0  630.000000  \n",
       "mean          NaN    0.666667  \n",
       "std           NaN    0.471779  \n",
       "min           NaN    0.000000  \n",
       "25%           NaN    0.000000  \n",
       "50%           NaN    1.000000  \n",
       "75%           NaN    1.000000  \n",
       "max           NaN    1.000000  "
      ]
     },
     "execution_count": 9,
     "metadata": {},
     "output_type": "execute_result"
    }
   ],
   "source": [
    "dataset.describe()"
   ]
  },
  {
   "cell_type": "code",
   "execution_count": 4,
   "id": "87c7afb7",
   "metadata": {},
   "outputs": [
    {
     "data": {
      "text/plain": [
       "array(['Total potable water volume, all sectors of use',\n",
       "       'Residential sector',\n",
       "       'Industrial, commercial, institutional and other non-residential sectors',\n",
       "       'Losses from the distribution system',\n",
       "       'Wholesale water provided to other jurisdictions',\n",
       "       'Sector of use unknown',\n",
       "       'Average daily total use per capita of the population served',\n",
       "       'Average daily residential use per capita of the population served',\n",
       "       'Responding population served for the average daily residential use'],\n",
       "      dtype=object)"
      ]
     },
     "execution_count": 4,
     "metadata": {},
     "output_type": "execute_result"
    }
   ],
   "source": [
    "dataset['Characteristics of potable water use'].unique()"
   ]
  },
  {
   "cell_type": "code",
   "execution_count": 5,
   "id": "3f6c2145",
   "metadata": {},
   "outputs": [
    {
     "data": {
      "text/plain": [
       "array(['Canada', 'Newfoundland and Labrador', 'Prince Edward Island',\n",
       "       'Nova Scotia', 'New Brunswick', 'Quebec', 'Ontario', 'Manitoba',\n",
       "       'Saskatchewan', 'Alberta', 'British Columbia', 'Yukon',\n",
       "       'Northwest Territories', 'Nunavut'], dtype=object)"
      ]
     },
     "execution_count": 5,
     "metadata": {},
     "output_type": "execute_result"
    }
   ],
   "source": [
    "dataset['GEO'].unique()"
   ]
  },
  {
   "cell_type": "code",
   "execution_count": 7,
   "id": "575cae59",
   "metadata": {},
   "outputs": [
    {
     "data": {
      "text/plain": [
       "array([2011, 2013, 2015, 2017, 2019], dtype=int64)"
      ]
     },
     "execution_count": 7,
     "metadata": {},
     "output_type": "execute_result"
    }
   ],
   "source": [
    "dataset['REF_DATE'].unique()"
   ]
  },
  {
   "cell_type": "code",
   "execution_count": 8,
   "id": "f861f55a",
   "metadata": {},
   "outputs": [
    {
     "data": {
      "text/plain": [
       "array(['Cubic metres', 'Litres per person per day', 'Persons'],\n",
       "      dtype=object)"
      ]
     },
     "execution_count": 8,
     "metadata": {},
     "output_type": "execute_result"
    }
   ],
   "source": [
    "dataset['UOM'].unique()"
   ]
  },
  {
   "cell_type": "code",
   "execution_count": 9,
   "id": "3a419c1d",
   "metadata": {
    "scrolled": true
   },
   "outputs": [
    {
     "data": {
      "text/html": [
       "<div>\n",
       "<style scoped>\n",
       "    .dataframe tbody tr th:only-of-type {\n",
       "        vertical-align: middle;\n",
       "    }\n",
       "\n",
       "    .dataframe tbody tr th {\n",
       "        vertical-align: top;\n",
       "    }\n",
       "\n",
       "    .dataframe thead th {\n",
       "        text-align: right;\n",
       "    }\n",
       "</style>\n",
       "<table border=\"1\" class=\"dataframe\">\n",
       "  <thead>\n",
       "    <tr style=\"text-align: right;\">\n",
       "      <th></th>\n",
       "      <th>REF_DATE</th>\n",
       "      <th>GEO</th>\n",
       "      <th>DGUID</th>\n",
       "      <th>Characteristics of potable water use</th>\n",
       "      <th>UOM</th>\n",
       "      <th>UOM_ID</th>\n",
       "      <th>SCALAR_FACTOR</th>\n",
       "      <th>SCALAR_ID</th>\n",
       "      <th>VECTOR</th>\n",
       "      <th>COORDINATE</th>\n",
       "      <th>VALUE</th>\n",
       "      <th>STATUS</th>\n",
       "      <th>DECIMALS</th>\n",
       "    </tr>\n",
       "  </thead>\n",
       "  <tbody>\n",
       "    <tr>\n",
       "      <th>0</th>\n",
       "      <td>2011</td>\n",
       "      <td>Canada</td>\n",
       "      <td>2016A000011124</td>\n",
       "      <td>Total potable water volume, all sectors of use</td>\n",
       "      <td>Cubic metres</td>\n",
       "      <td>72</td>\n",
       "      <td>millions</td>\n",
       "      <td>6</td>\n",
       "      <td>v91504388</td>\n",
       "      <td>1.1</td>\n",
       "      <td>5123.7</td>\n",
       "      <td>A</td>\n",
       "      <td>1</td>\n",
       "    </tr>\n",
       "    <tr>\n",
       "      <th>1</th>\n",
       "      <td>2011</td>\n",
       "      <td>Canada</td>\n",
       "      <td>2016A000011124</td>\n",
       "      <td>Residential sector</td>\n",
       "      <td>Cubic metres</td>\n",
       "      <td>72</td>\n",
       "      <td>millions</td>\n",
       "      <td>6</td>\n",
       "      <td>v91504389</td>\n",
       "      <td>1.2</td>\n",
       "      <td>2195.8</td>\n",
       "      <td>A</td>\n",
       "      <td>1</td>\n",
       "    </tr>\n",
       "    <tr>\n",
       "      <th>2</th>\n",
       "      <td>2011</td>\n",
       "      <td>Canada</td>\n",
       "      <td>2016A000011124</td>\n",
       "      <td>Industrial, commercial, institutional and othe...</td>\n",
       "      <td>Cubic metres</td>\n",
       "      <td>72</td>\n",
       "      <td>millions</td>\n",
       "      <td>6</td>\n",
       "      <td>v91504390</td>\n",
       "      <td>1.3</td>\n",
       "      <td>1108.1</td>\n",
       "      <td>A</td>\n",
       "      <td>1</td>\n",
       "    </tr>\n",
       "    <tr>\n",
       "      <th>3</th>\n",
       "      <td>2011</td>\n",
       "      <td>Canada</td>\n",
       "      <td>2016A000011124</td>\n",
       "      <td>Losses from the distribution system</td>\n",
       "      <td>Cubic metres</td>\n",
       "      <td>72</td>\n",
       "      <td>millions</td>\n",
       "      <td>6</td>\n",
       "      <td>v91504391</td>\n",
       "      <td>1.4</td>\n",
       "      <td>673.3</td>\n",
       "      <td>A</td>\n",
       "      <td>1</td>\n",
       "    </tr>\n",
       "    <tr>\n",
       "      <th>4</th>\n",
       "      <td>2011</td>\n",
       "      <td>Canada</td>\n",
       "      <td>2016A000011124</td>\n",
       "      <td>Wholesale water provided to other jurisdictions</td>\n",
       "      <td>Cubic metres</td>\n",
       "      <td>72</td>\n",
       "      <td>millions</td>\n",
       "      <td>6</td>\n",
       "      <td>v91504392</td>\n",
       "      <td>1.5</td>\n",
       "      <td>212.3</td>\n",
       "      <td>A</td>\n",
       "      <td>1</td>\n",
       "    </tr>\n",
       "    <tr>\n",
       "      <th>...</th>\n",
       "      <td>...</td>\n",
       "      <td>...</td>\n",
       "      <td>...</td>\n",
       "      <td>...</td>\n",
       "      <td>...</td>\n",
       "      <td>...</td>\n",
       "      <td>...</td>\n",
       "      <td>...</td>\n",
       "      <td>...</td>\n",
       "      <td>...</td>\n",
       "      <td>...</td>\n",
       "      <td>...</td>\n",
       "      <td>...</td>\n",
       "    </tr>\n",
       "    <tr>\n",
       "      <th>625</th>\n",
       "      <td>2019</td>\n",
       "      <td>Nunavut</td>\n",
       "      <td>2016A000262</td>\n",
       "      <td>Wholesale water provided to other jurisdictions</td>\n",
       "      <td>Cubic metres</td>\n",
       "      <td>72</td>\n",
       "      <td>millions</td>\n",
       "      <td>6</td>\n",
       "      <td>v91504509</td>\n",
       "      <td>14.5</td>\n",
       "      <td>0.0</td>\n",
       "      <td>E</td>\n",
       "      <td>1</td>\n",
       "    </tr>\n",
       "    <tr>\n",
       "      <th>626</th>\n",
       "      <td>2019</td>\n",
       "      <td>Nunavut</td>\n",
       "      <td>2016A000262</td>\n",
       "      <td>Sector of use unknown</td>\n",
       "      <td>Cubic metres</td>\n",
       "      <td>72</td>\n",
       "      <td>millions</td>\n",
       "      <td>6</td>\n",
       "      <td>v91504510</td>\n",
       "      <td>14.6</td>\n",
       "      <td>0.0</td>\n",
       "      <td>E</td>\n",
       "      <td>1</td>\n",
       "    </tr>\n",
       "    <tr>\n",
       "      <th>627</th>\n",
       "      <td>2019</td>\n",
       "      <td>Nunavut</td>\n",
       "      <td>2016A000262</td>\n",
       "      <td>Average daily total use per capita of the popu...</td>\n",
       "      <td>Litres per person per day</td>\n",
       "      <td>318</td>\n",
       "      <td>units</td>\n",
       "      <td>0</td>\n",
       "      <td>v91504511</td>\n",
       "      <td>14.7</td>\n",
       "      <td>254.0</td>\n",
       "      <td>B</td>\n",
       "      <td>0</td>\n",
       "    </tr>\n",
       "    <tr>\n",
       "      <th>628</th>\n",
       "      <td>2019</td>\n",
       "      <td>Nunavut</td>\n",
       "      <td>2016A000262</td>\n",
       "      <td>Average daily residential use per capita of th...</td>\n",
       "      <td>Litres per person per day</td>\n",
       "      <td>318</td>\n",
       "      <td>units</td>\n",
       "      <td>0</td>\n",
       "      <td>v91504512</td>\n",
       "      <td>14.8</td>\n",
       "      <td>136.0</td>\n",
       "      <td>B</td>\n",
       "      <td>0</td>\n",
       "    </tr>\n",
       "    <tr>\n",
       "      <th>629</th>\n",
       "      <td>2019</td>\n",
       "      <td>Nunavut</td>\n",
       "      <td>2016A000262</td>\n",
       "      <td>Responding population served for the average d...</td>\n",
       "      <td>Persons</td>\n",
       "      <td>249</td>\n",
       "      <td>units</td>\n",
       "      <td>0</td>\n",
       "      <td>v91504513</td>\n",
       "      <td>14.9</td>\n",
       "      <td>35560.0</td>\n",
       "      <td>B</td>\n",
       "      <td>0</td>\n",
       "    </tr>\n",
       "  </tbody>\n",
       "</table>\n",
       "<p>630 rows × 13 columns</p>\n",
       "</div>"
      ],
      "text/plain": [
       "     REF_DATE      GEO           DGUID  \\\n",
       "0        2011   Canada  2016A000011124   \n",
       "1        2011   Canada  2016A000011124   \n",
       "2        2011   Canada  2016A000011124   \n",
       "3        2011   Canada  2016A000011124   \n",
       "4        2011   Canada  2016A000011124   \n",
       "..        ...      ...             ...   \n",
       "625      2019  Nunavut     2016A000262   \n",
       "626      2019  Nunavut     2016A000262   \n",
       "627      2019  Nunavut     2016A000262   \n",
       "628      2019  Nunavut     2016A000262   \n",
       "629      2019  Nunavut     2016A000262   \n",
       "\n",
       "                  Characteristics of potable water use  \\\n",
       "0       Total potable water volume, all sectors of use   \n",
       "1                                   Residential sector   \n",
       "2    Industrial, commercial, institutional and othe...   \n",
       "3                  Losses from the distribution system   \n",
       "4      Wholesale water provided to other jurisdictions   \n",
       "..                                                 ...   \n",
       "625    Wholesale water provided to other jurisdictions   \n",
       "626                              Sector of use unknown   \n",
       "627  Average daily total use per capita of the popu...   \n",
       "628  Average daily residential use per capita of th...   \n",
       "629  Responding population served for the average d...   \n",
       "\n",
       "                           UOM  UOM_ID SCALAR_FACTOR  SCALAR_ID     VECTOR  \\\n",
       "0                 Cubic metres      72      millions          6  v91504388   \n",
       "1                 Cubic metres      72      millions          6  v91504389   \n",
       "2                 Cubic metres      72      millions          6  v91504390   \n",
       "3                 Cubic metres      72      millions          6  v91504391   \n",
       "4                 Cubic metres      72      millions          6  v91504392   \n",
       "..                         ...     ...           ...        ...        ...   \n",
       "625               Cubic metres      72      millions          6  v91504509   \n",
       "626               Cubic metres      72      millions          6  v91504510   \n",
       "627  Litres per person per day     318         units          0  v91504511   \n",
       "628  Litres per person per day     318         units          0  v91504512   \n",
       "629                    Persons     249         units          0  v91504513   \n",
       "\n",
       "     COORDINATE    VALUE STATUS  DECIMALS  \n",
       "0           1.1   5123.7      A         1  \n",
       "1           1.2   2195.8      A         1  \n",
       "2           1.3   1108.1      A         1  \n",
       "3           1.4    673.3      A         1  \n",
       "4           1.5    212.3      A         1  \n",
       "..          ...      ...    ...       ...  \n",
       "625        14.5      0.0      E         1  \n",
       "626        14.6      0.0      E         1  \n",
       "627        14.7    254.0      B         0  \n",
       "628        14.8    136.0      B         0  \n",
       "629        14.9  35560.0      B         0  \n",
       "\n",
       "[630 rows x 13 columns]"
      ]
     },
     "execution_count": 9,
     "metadata": {},
     "output_type": "execute_result"
    }
   ],
   "source": [
    "dataset.dropna(how='all', axis=1)"
   ]
  },
  {
   "cell_type": "code",
   "execution_count": 11,
   "id": "2330c517",
   "metadata": {},
   "outputs": [
    {
     "data": {
      "text/html": [
       "<div>\n",
       "<style scoped>\n",
       "    .dataframe tbody tr th:only-of-type {\n",
       "        vertical-align: middle;\n",
       "    }\n",
       "\n",
       "    .dataframe tbody tr th {\n",
       "        vertical-align: top;\n",
       "    }\n",
       "\n",
       "    .dataframe thead th {\n",
       "        text-align: right;\n",
       "    }\n",
       "</style>\n",
       "<table border=\"1\" class=\"dataframe\">\n",
       "  <thead>\n",
       "    <tr style=\"text-align: right;\">\n",
       "      <th></th>\n",
       "      <th>REF_DATE</th>\n",
       "      <th>GEO</th>\n",
       "      <th>DGUID</th>\n",
       "      <th>Characteristics of potable water use</th>\n",
       "      <th>UOM</th>\n",
       "      <th>UOM_ID</th>\n",
       "      <th>SCALAR_FACTOR</th>\n",
       "      <th>SCALAR_ID</th>\n",
       "      <th>VECTOR</th>\n",
       "      <th>COORDINATE</th>\n",
       "      <th>VALUE</th>\n",
       "      <th>STATUS</th>\n",
       "      <th>SYMBOL</th>\n",
       "      <th>TERMINATED</th>\n",
       "      <th>DECIMALS</th>\n",
       "    </tr>\n",
       "  </thead>\n",
       "  <tbody>\n",
       "    <tr>\n",
       "      <th>0</th>\n",
       "      <td>False</td>\n",
       "      <td>False</td>\n",
       "      <td>False</td>\n",
       "      <td>False</td>\n",
       "      <td>False</td>\n",
       "      <td>False</td>\n",
       "      <td>False</td>\n",
       "      <td>False</td>\n",
       "      <td>False</td>\n",
       "      <td>False</td>\n",
       "      <td>False</td>\n",
       "      <td>False</td>\n",
       "      <td>True</td>\n",
       "      <td>True</td>\n",
       "      <td>False</td>\n",
       "    </tr>\n",
       "    <tr>\n",
       "      <th>1</th>\n",
       "      <td>False</td>\n",
       "      <td>False</td>\n",
       "      <td>False</td>\n",
       "      <td>False</td>\n",
       "      <td>False</td>\n",
       "      <td>False</td>\n",
       "      <td>False</td>\n",
       "      <td>False</td>\n",
       "      <td>False</td>\n",
       "      <td>False</td>\n",
       "      <td>False</td>\n",
       "      <td>False</td>\n",
       "      <td>True</td>\n",
       "      <td>True</td>\n",
       "      <td>False</td>\n",
       "    </tr>\n",
       "    <tr>\n",
       "      <th>2</th>\n",
       "      <td>False</td>\n",
       "      <td>False</td>\n",
       "      <td>False</td>\n",
       "      <td>False</td>\n",
       "      <td>False</td>\n",
       "      <td>False</td>\n",
       "      <td>False</td>\n",
       "      <td>False</td>\n",
       "      <td>False</td>\n",
       "      <td>False</td>\n",
       "      <td>False</td>\n",
       "      <td>False</td>\n",
       "      <td>True</td>\n",
       "      <td>True</td>\n",
       "      <td>False</td>\n",
       "    </tr>\n",
       "    <tr>\n",
       "      <th>3</th>\n",
       "      <td>False</td>\n",
       "      <td>False</td>\n",
       "      <td>False</td>\n",
       "      <td>False</td>\n",
       "      <td>False</td>\n",
       "      <td>False</td>\n",
       "      <td>False</td>\n",
       "      <td>False</td>\n",
       "      <td>False</td>\n",
       "      <td>False</td>\n",
       "      <td>False</td>\n",
       "      <td>False</td>\n",
       "      <td>True</td>\n",
       "      <td>True</td>\n",
       "      <td>False</td>\n",
       "    </tr>\n",
       "    <tr>\n",
       "      <th>4</th>\n",
       "      <td>False</td>\n",
       "      <td>False</td>\n",
       "      <td>False</td>\n",
       "      <td>False</td>\n",
       "      <td>False</td>\n",
       "      <td>False</td>\n",
       "      <td>False</td>\n",
       "      <td>False</td>\n",
       "      <td>False</td>\n",
       "      <td>False</td>\n",
       "      <td>False</td>\n",
       "      <td>False</td>\n",
       "      <td>True</td>\n",
       "      <td>True</td>\n",
       "      <td>False</td>\n",
       "    </tr>\n",
       "    <tr>\n",
       "      <th>...</th>\n",
       "      <td>...</td>\n",
       "      <td>...</td>\n",
       "      <td>...</td>\n",
       "      <td>...</td>\n",
       "      <td>...</td>\n",
       "      <td>...</td>\n",
       "      <td>...</td>\n",
       "      <td>...</td>\n",
       "      <td>...</td>\n",
       "      <td>...</td>\n",
       "      <td>...</td>\n",
       "      <td>...</td>\n",
       "      <td>...</td>\n",
       "      <td>...</td>\n",
       "      <td>...</td>\n",
       "    </tr>\n",
       "    <tr>\n",
       "      <th>625</th>\n",
       "      <td>False</td>\n",
       "      <td>False</td>\n",
       "      <td>False</td>\n",
       "      <td>False</td>\n",
       "      <td>False</td>\n",
       "      <td>False</td>\n",
       "      <td>False</td>\n",
       "      <td>False</td>\n",
       "      <td>False</td>\n",
       "      <td>False</td>\n",
       "      <td>False</td>\n",
       "      <td>False</td>\n",
       "      <td>True</td>\n",
       "      <td>True</td>\n",
       "      <td>False</td>\n",
       "    </tr>\n",
       "    <tr>\n",
       "      <th>626</th>\n",
       "      <td>False</td>\n",
       "      <td>False</td>\n",
       "      <td>False</td>\n",
       "      <td>False</td>\n",
       "      <td>False</td>\n",
       "      <td>False</td>\n",
       "      <td>False</td>\n",
       "      <td>False</td>\n",
       "      <td>False</td>\n",
       "      <td>False</td>\n",
       "      <td>False</td>\n",
       "      <td>False</td>\n",
       "      <td>True</td>\n",
       "      <td>True</td>\n",
       "      <td>False</td>\n",
       "    </tr>\n",
       "    <tr>\n",
       "      <th>627</th>\n",
       "      <td>False</td>\n",
       "      <td>False</td>\n",
       "      <td>False</td>\n",
       "      <td>False</td>\n",
       "      <td>False</td>\n",
       "      <td>False</td>\n",
       "      <td>False</td>\n",
       "      <td>False</td>\n",
       "      <td>False</td>\n",
       "      <td>False</td>\n",
       "      <td>False</td>\n",
       "      <td>False</td>\n",
       "      <td>True</td>\n",
       "      <td>True</td>\n",
       "      <td>False</td>\n",
       "    </tr>\n",
       "    <tr>\n",
       "      <th>628</th>\n",
       "      <td>False</td>\n",
       "      <td>False</td>\n",
       "      <td>False</td>\n",
       "      <td>False</td>\n",
       "      <td>False</td>\n",
       "      <td>False</td>\n",
       "      <td>False</td>\n",
       "      <td>False</td>\n",
       "      <td>False</td>\n",
       "      <td>False</td>\n",
       "      <td>False</td>\n",
       "      <td>False</td>\n",
       "      <td>True</td>\n",
       "      <td>True</td>\n",
       "      <td>False</td>\n",
       "    </tr>\n",
       "    <tr>\n",
       "      <th>629</th>\n",
       "      <td>False</td>\n",
       "      <td>False</td>\n",
       "      <td>False</td>\n",
       "      <td>False</td>\n",
       "      <td>False</td>\n",
       "      <td>False</td>\n",
       "      <td>False</td>\n",
       "      <td>False</td>\n",
       "      <td>False</td>\n",
       "      <td>False</td>\n",
       "      <td>False</td>\n",
       "      <td>False</td>\n",
       "      <td>True</td>\n",
       "      <td>True</td>\n",
       "      <td>False</td>\n",
       "    </tr>\n",
       "  </tbody>\n",
       "</table>\n",
       "<p>630 rows × 15 columns</p>\n",
       "</div>"
      ],
      "text/plain": [
       "     REF_DATE    GEO  DGUID  Characteristics of potable water use    UOM  \\\n",
       "0       False  False  False                                 False  False   \n",
       "1       False  False  False                                 False  False   \n",
       "2       False  False  False                                 False  False   \n",
       "3       False  False  False                                 False  False   \n",
       "4       False  False  False                                 False  False   \n",
       "..        ...    ...    ...                                   ...    ...   \n",
       "625     False  False  False                                 False  False   \n",
       "626     False  False  False                                 False  False   \n",
       "627     False  False  False                                 False  False   \n",
       "628     False  False  False                                 False  False   \n",
       "629     False  False  False                                 False  False   \n",
       "\n",
       "     UOM_ID  SCALAR_FACTOR  SCALAR_ID  VECTOR  COORDINATE  VALUE  STATUS  \\\n",
       "0     False          False      False   False       False  False   False   \n",
       "1     False          False      False   False       False  False   False   \n",
       "2     False          False      False   False       False  False   False   \n",
       "3     False          False      False   False       False  False   False   \n",
       "4     False          False      False   False       False  False   False   \n",
       "..      ...            ...        ...     ...         ...    ...     ...   \n",
       "625   False          False      False   False       False  False   False   \n",
       "626   False          False      False   False       False  False   False   \n",
       "627   False          False      False   False       False  False   False   \n",
       "628   False          False      False   False       False  False   False   \n",
       "629   False          False      False   False       False  False   False   \n",
       "\n",
       "     SYMBOL  TERMINATED  DECIMALS  \n",
       "0      True        True     False  \n",
       "1      True        True     False  \n",
       "2      True        True     False  \n",
       "3      True        True     False  \n",
       "4      True        True     False  \n",
       "..      ...         ...       ...  \n",
       "625    True        True     False  \n",
       "626    True        True     False  \n",
       "627    True        True     False  \n",
       "628    True        True     False  \n",
       "629    True        True     False  \n",
       "\n",
       "[630 rows x 15 columns]"
      ]
     },
     "execution_count": 11,
     "metadata": {},
     "output_type": "execute_result"
    }
   ],
   "source": [
    "dataset.isna()"
   ]
  },
  {
   "cell_type": "code",
   "execution_count": 13,
   "id": "bf290b56",
   "metadata": {},
   "outputs": [
    {
     "data": {
      "text/plain": [
       "REF_DATE                                  0\n",
       "GEO                                       0\n",
       "DGUID                                     0\n",
       "Characteristics of potable water use      0\n",
       "UOM                                       0\n",
       "UOM_ID                                    0\n",
       "SCALAR_FACTOR                             0\n",
       "SCALAR_ID                                 0\n",
       "VECTOR                                    0\n",
       "COORDINATE                                0\n",
       "VALUE                                     7\n",
       "STATUS                                    6\n",
       "SYMBOL                                  630\n",
       "TERMINATED                              630\n",
       "DECIMALS                                  0\n",
       "dtype: int64"
      ]
     },
     "execution_count": 13,
     "metadata": {},
     "output_type": "execute_result"
    }
   ],
   "source": [
    "dataset.isna().sum()"
   ]
  },
  {
   "cell_type": "code",
   "execution_count": 16,
   "id": "598a2d9a",
   "metadata": {},
   "outputs": [
    {
     "data": {
      "text/plain": [
       "REF_DATE                                                                          1269450\n",
       "GEO                                     CanadaCanadaCanadaCanadaCanadaCanadaCanadaCana...\n",
       "DGUID                                   2016A0000111242016A0000111242016A0000111242016...\n",
       "Characteristics of potable water use    Total potable water volume, all sectors of use...\n",
       "UOM                                     Cubic metresCubic metresCubic metresCubic metr...\n",
       "UOM_ID                                                                              92190\n",
       "SCALAR_FACTOR                           millionsmillionsmillionsmillionsmillionsmillio...\n",
       "SCALAR_ID                                                                            2520\n",
       "VECTOR                                  v91504388v91504389v91504390v91504391v91504392v...\n",
       "COORDINATE                                                                         5040.0\n",
       "VALUE                                                                                 NaN\n",
       "SYMBOL                                                                                NaN\n",
       "TERMINATED                                                                            NaN\n",
       "DECIMALS                                                                              420\n",
       "dtype: object"
      ]
     },
     "execution_count": 16,
     "metadata": {},
     "output_type": "execute_result"
    }
   ],
   "source": [
    "dataset.sum(skipna=False)"
   ]
  },
  {
   "cell_type": "code",
   "execution_count": 17,
   "id": "3c090d05",
   "metadata": {},
   "outputs": [
    {
     "data": {
      "text/plain": [
       "REF_DATE                                                                          1269450\n",
       "GEO                                     CanadaCanadaCanadaCanadaCanadaCanadaCanadaCana...\n",
       "DGUID                                   2016A0000111242016A0000111242016A0000111242016...\n",
       "Characteristics of potable water use    Total potable water volume, all sectors of use...\n",
       "UOM                                     Cubic metresCubic metresCubic metresCubic metr...\n",
       "UOM_ID                                                                              92190\n",
       "SCALAR_FACTOR                           millionsmillionsmillionsmillionsmillionsmillio...\n",
       "SCALAR_ID                                                                            2520\n",
       "VECTOR                                  v91504388v91504389v91504390v91504391v91504392v...\n",
       "COORDINATE                                                                         5040.0\n",
       "VALUE                                                                         279012362.5\n",
       "SYMBOL                                                                                0.0\n",
       "TERMINATED                                                                            0.0\n",
       "DECIMALS                                                                              420\n",
       "dtype: object"
      ]
     },
     "execution_count": 17,
     "metadata": {},
     "output_type": "execute_result"
    }
   ],
   "source": [
    "dataset.sum(skipna=True)"
   ]
  },
  {
   "cell_type": "code",
   "execution_count": 18,
   "id": "bc1595e4",
   "metadata": {},
   "outputs": [
    {
     "data": {
      "text/html": [
       "<div>\n",
       "<style scoped>\n",
       "    .dataframe tbody tr th:only-of-type {\n",
       "        vertical-align: middle;\n",
       "    }\n",
       "\n",
       "    .dataframe tbody tr th {\n",
       "        vertical-align: top;\n",
       "    }\n",
       "\n",
       "    .dataframe thead th {\n",
       "        text-align: right;\n",
       "    }\n",
       "</style>\n",
       "<table border=\"1\" class=\"dataframe\">\n",
       "  <thead>\n",
       "    <tr style=\"text-align: right;\">\n",
       "      <th></th>\n",
       "      <th>GEO</th>\n",
       "      <th>DGUID</th>\n",
       "      <th>Characteristics of potable water use</th>\n",
       "      <th>UOM</th>\n",
       "      <th>SCALAR_FACTOR</th>\n",
       "      <th>VECTOR</th>\n",
       "      <th>STATUS</th>\n",
       "    </tr>\n",
       "  </thead>\n",
       "  <tbody>\n",
       "    <tr>\n",
       "      <th>count</th>\n",
       "      <td>630</td>\n",
       "      <td>630</td>\n",
       "      <td>630</td>\n",
       "      <td>630</td>\n",
       "      <td>630</td>\n",
       "      <td>630</td>\n",
       "      <td>624</td>\n",
       "    </tr>\n",
       "    <tr>\n",
       "      <th>unique</th>\n",
       "      <td>14</td>\n",
       "      <td>14</td>\n",
       "      <td>9</td>\n",
       "      <td>3</td>\n",
       "      <td>3</td>\n",
       "      <td>126</td>\n",
       "      <td>6</td>\n",
       "    </tr>\n",
       "    <tr>\n",
       "      <th>top</th>\n",
       "      <td>British Columbia</td>\n",
       "      <td>2016A000262</td>\n",
       "      <td>Losses from the distribution system</td>\n",
       "      <td>Cubic metres</td>\n",
       "      <td>millions</td>\n",
       "      <td>v91504434</td>\n",
       "      <td>A</td>\n",
       "    </tr>\n",
       "    <tr>\n",
       "      <th>freq</th>\n",
       "      <td>45</td>\n",
       "      <td>45</td>\n",
       "      <td>70</td>\n",
       "      <td>420</td>\n",
       "      <td>420</td>\n",
       "      <td>5</td>\n",
       "      <td>476</td>\n",
       "    </tr>\n",
       "  </tbody>\n",
       "</table>\n",
       "</div>"
      ],
      "text/plain": [
       "                     GEO        DGUID Characteristics of potable water use  \\\n",
       "count                630          630                                  630   \n",
       "unique                14           14                                    9   \n",
       "top     British Columbia  2016A000262  Losses from the distribution system   \n",
       "freq                  45           45                                   70   \n",
       "\n",
       "                 UOM SCALAR_FACTOR     VECTOR STATUS  \n",
       "count            630           630        630    624  \n",
       "unique             3             3        126      6  \n",
       "top     Cubic metres      millions  v91504434      A  \n",
       "freq             420           420          5    476  "
      ]
     },
     "execution_count": 18,
     "metadata": {},
     "output_type": "execute_result"
    }
   ],
   "source": [
    "dataset.describe(include=[\"object\", \"bool\"])"
   ]
  },
  {
   "cell_type": "code",
   "execution_count": 19,
   "id": "ebaffe50",
   "metadata": {},
   "outputs": [
    {
     "data": {
      "text/plain": [
       "British Columbia             45\n",
       "New Brunswick                45\n",
       "Quebec                       45\n",
       "Nova Scotia                  45\n",
       "Newfoundland and Labrador    45\n",
       "Prince Edward Island         45\n",
       "Northwest Territories        45\n",
       "Ontario                      45\n",
       "Nunavut                      45\n",
       "Canada                       45\n",
       "Alberta                      45\n",
       "Saskatchewan                 45\n",
       "Yukon                        45\n",
       "Manitoba                     45\n",
       "Name: GEO, dtype: int64"
      ]
     },
     "execution_count": 19,
     "metadata": {},
     "output_type": "execute_result"
    }
   ],
   "source": [
    "dataset[\"GEO\"].value_counts()\n"
   ]
  },
  {
   "cell_type": "code",
   "execution_count": 21,
   "id": "ad4af875",
   "metadata": {},
   "outputs": [
    {
     "data": {
      "text/plain": [
       "Losses from the distribution system                                        70\n",
       "Average daily residential use per capita of the population served          70\n",
       "Industrial, commercial, institutional and other non-residential sectors    70\n",
       "Wholesale water provided to other jurisdictions                            70\n",
       "Responding population served for the average daily residential use         70\n",
       "Sector of use unknown                                                      70\n",
       "Average daily total use per capita of the population served                70\n",
       "Residential sector                                                         70\n",
       "Total potable water volume, all sectors of use                             70\n",
       "Name: Characteristics of potable water use, dtype: int64"
      ]
     },
     "execution_count": 21,
     "metadata": {},
     "output_type": "execute_result"
    }
   ],
   "source": [
    "dataset[\"Characteristics of potable water use\"].value_counts()"
   ]
  },
  {
   "cell_type": "code",
   "execution_count": 22,
   "id": "4d532f6a",
   "metadata": {},
   "outputs": [
    {
     "data": {
      "text/plain": [
       "2011    126\n",
       "2013    126\n",
       "2015    126\n",
       "2017    126\n",
       "2019    126\n",
       "Name: REF_DATE, dtype: int64"
      ]
     },
     "execution_count": 22,
     "metadata": {},
     "output_type": "execute_result"
    }
   ],
   "source": [
    "dataset[\"REF_DATE\"].value_counts()"
   ]
  },
  {
   "cell_type": "code",
   "execution_count": 25,
   "id": "c28350e6",
   "metadata": {},
   "outputs": [
    {
     "data": {
      "text/plain": [
       "447852.90930979117"
      ]
     },
     "execution_count": 25,
     "metadata": {},
     "output_type": "execute_result"
    }
   ],
   "source": [
    "dataset[\"VALUE\"].mean()"
   ]
  },
  {
   "cell_type": "code",
   "execution_count": 7,
   "id": "cc4682b7",
   "metadata": {},
   "outputs": [
    {
     "name": "stdout",
     "output_type": "stream",
     "text": [
      "VALUE         1.000000\n",
      "UOM_ID        0.153450\n",
      "REF_DATE      0.015843\n",
      "COORDINATE   -0.109578\n",
      "SCALAR_ID    -0.226305\n",
      "DECIMALS     -0.226305\n",
      "SYMBOL             NaN\n",
      "TERMINATED         NaN\n",
      "Name: VALUE, dtype: float64 \n",
      "\n"
     ]
    }
   ],
   "source": [
    "correlation = dataset.corr()\n",
    "print(correlation['VALUE'].sort_values(ascending = False),'\\n')"
   ]
  },
  {
   "cell_type": "code",
   "execution_count": null,
   "id": "caa507ce",
   "metadata": {},
   "outputs": [],
   "source": [
    "#  preliminary visualizations"
   ]
  },
  {
   "cell_type": "code",
   "execution_count": 27,
   "id": "7e263d21",
   "metadata": {},
   "outputs": [
    {
     "data": {
      "text/plain": [
       "<AxesSubplot:title={'center':'Correlation'}>"
      ]
     },
     "execution_count": 27,
     "metadata": {},
     "output_type": "execute_result"
    },
    {
     "data": {
      "image/png": "[encoded data removed]",
      "text/plain": [
       "<Figure size 1152x720 with 2 Axes>"
      ]
     },
     "metadata": {
      "needs_background": "light"
     },
     "output_type": "display_data"
    }
   ],
   "source": [
    "f , ax = plt.subplots(figsize = (16,10))\n",
    "\n",
    "plt.title('Correlation',y=1,size=16)\n",
    "\n",
    "sns.heatmap(correlation,square = True,  vmax=0.8)\n"
   ]
  },
  {
   "cell_type": "code",
   "execution_count": 11,
   "id": "66658636",
   "metadata": {},
   "outputs": [
    {
     "data": {
      "text/html": [
       "<div>\n",
       "<style scoped>\n",
       "    .dataframe tbody tr th:only-of-type {\n",
       "        vertical-align: middle;\n",
       "    }\n",
       "\n",
       "    .dataframe tbody tr th {\n",
       "        vertical-align: top;\n",
       "    }\n",
       "\n",
       "    .dataframe thead th {\n",
       "        text-align: right;\n",
       "    }\n",
       "</style>\n",
       "<table border=\"1\" class=\"dataframe\">\n",
       "  <thead>\n",
       "    <tr style=\"text-align: right;\">\n",
       "      <th></th>\n",
       "      <th>REF_DATE</th>\n",
       "      <th>UOM_ID</th>\n",
       "      <th>SCALAR_ID</th>\n",
       "      <th>COORDINATE</th>\n",
       "      <th>VALUE</th>\n",
       "      <th>SYMBOL</th>\n",
       "      <th>TERMINATED</th>\n",
       "      <th>DECIMALS</th>\n",
       "    </tr>\n",
       "  </thead>\n",
       "  <tbody>\n",
       "    <tr>\n",
       "      <th>0</th>\n",
       "      <td>2011</td>\n",
       "      <td>72</td>\n",
       "      <td>6</td>\n",
       "      <td>1.1</td>\n",
       "      <td>5123.7</td>\n",
       "      <td>NaN</td>\n",
       "      <td>NaN</td>\n",
       "      <td>1</td>\n",
       "    </tr>\n",
       "    <tr>\n",
       "      <th>1</th>\n",
       "      <td>2011</td>\n",
       "      <td>72</td>\n",
       "      <td>6</td>\n",
       "      <td>1.2</td>\n",
       "      <td>2195.8</td>\n",
       "      <td>NaN</td>\n",
       "      <td>NaN</td>\n",
       "      <td>1</td>\n",
       "    </tr>\n",
       "    <tr>\n",
       "      <th>2</th>\n",
       "      <td>2011</td>\n",
       "      <td>72</td>\n",
       "      <td>6</td>\n",
       "      <td>1.3</td>\n",
       "      <td>1108.1</td>\n",
       "      <td>NaN</td>\n",
       "      <td>NaN</td>\n",
       "      <td>1</td>\n",
       "    </tr>\n",
       "    <tr>\n",
       "      <th>3</th>\n",
       "      <td>2011</td>\n",
       "      <td>72</td>\n",
       "      <td>6</td>\n",
       "      <td>1.4</td>\n",
       "      <td>673.3</td>\n",
       "      <td>NaN</td>\n",
       "      <td>NaN</td>\n",
       "      <td>1</td>\n",
       "    </tr>\n",
       "    <tr>\n",
       "      <th>4</th>\n",
       "      <td>2011</td>\n",
       "      <td>72</td>\n",
       "      <td>6</td>\n",
       "      <td>1.5</td>\n",
       "      <td>212.3</td>\n",
       "      <td>NaN</td>\n",
       "      <td>NaN</td>\n",
       "      <td>1</td>\n",
       "    </tr>\n",
       "  </tbody>\n",
       "</table>\n",
       "</div>"
      ],
      "text/plain": [
       "   REF_DATE  UOM_ID  SCALAR_ID  COORDINATE   VALUE  SYMBOL  TERMINATED  \\\n",
       "0      2011      72          6         1.1  5123.7     NaN         NaN   \n",
       "1      2011      72          6         1.2  2195.8     NaN         NaN   \n",
       "2      2011      72          6         1.3  1108.1     NaN         NaN   \n",
       "3      2011      72          6         1.4   673.3     NaN         NaN   \n",
       "4      2011      72          6         1.5   212.3     NaN         NaN   \n",
       "\n",
       "   DECIMALS  \n",
       "0         1  \n",
       "1         1  \n",
       "2         1  \n",
       "3         1  \n",
       "4         1  "
      ]
     },
     "execution_count": 11,
     "metadata": {},
     "output_type": "execute_result"
    }
   ],
   "source": [
    "dataset_num = dataset.select_dtypes(include = ['float64', 'int64'])\n",
    "dataset_num.head()"
   ]
  },
  {
   "cell_type": "code",
   "execution_count": 48,
   "id": "d6040456",
   "metadata": {},
   "outputs": [
    {
     "data": {
      "image/png": "[encoded data removed]",
      "text/plain": [
       "<Figure size 1152x1440 with 9 Axes>"
      ]
     },
     "metadata": {
      "needs_background": "light"
     },
     "output_type": "display_data"
    }
   ],
   "source": [
    "dataset_num.hist(figsize=(16, 20), bins=50, xlabelsize=8, ylabelsize=8); \n"
   ]
  },
  {
   "cell_type": "code",
   "execution_count": 53,
   "id": "ce6be411",
   "metadata": {},
   "outputs": [
    {
     "data": {
      "text/plain": [
       "Text(0, 0.5, 'Value')"
      ]
     },
     "execution_count": 53,
     "metadata": {},
     "output_type": "execute_result"
    },
    {
     "data": {
      "image/png": "[encoded data removed]",
      "text/plain": [
       "<Figure size 1152x432 with 1 Axes>"
      ]
     },
     "metadata": {
      "needs_background": "light"
     },
     "output_type": "display_data"
    }
   ],
   "source": [
    "plt.figure(figsize = (16, 6))\n",
    "ax = sns.boxplot(x='GEO', y='VALUE', data=dataset)\n",
    "plt.setp(ax.artists, alpha=.5, linewidth=2, edgecolor=\"k\")\n",
    "plt.xticks(rotation=45)\n",
    "ax.axis(ymin=0, ymax=800);\n",
    "plt.xlabel('Province Name')\n",
    "plt.ylabel('Value')"
   ]
  },
  {
   "cell_type": "code",
   "execution_count": 50,
   "id": "fb165f68",
   "metadata": {},
   "outputs": [
    {
     "data": {
      "text/plain": [
       "Text(0, 0.5, 'Value')"
      ]
     },
     "execution_count": 50,
     "metadata": {},
     "output_type": "execute_result"
    },
    {
     "data": {
      "image/png": "[encoded data removed]",
      "text/plain": [
       "<Figure size 1152x432 with 1 Axes>"
      ]
     },
     "metadata": {
      "needs_background": "light"
     },
     "output_type": "display_data"
    }
   ],
   "source": [
    "plt.figure(figsize = (16, 6))\n",
    "ax = sns.boxplot(x='Characteristics of potable water use', y='VALUE', data=dataset)\n",
    "plt.setp(ax.artists, alpha=.5, linewidth=2, edgecolor=\"k\")\n",
    "plt.xticks(rotation=45) \n",
    "ax.axis(ymin=0, ymax=800);\n",
    "plt.xlabel('Sectors')\n",
    "plt.ylabel('Value')\n"
   ]
  },
  {
   "cell_type": "code",
   "execution_count": 51,
   "id": "4361e739",
   "metadata": {},
   "outputs": [
    {
     "name": "stderr",
     "output_type": "stream",
     "text": [
      "C:\\Users\\MOHAMMED AMER\\anaconda\\lib\\site-packages\\seaborn\\_decorators.py:36: FutureWarning: Pass the following variables as keyword args: x, y. From version 0.12, the only valid positional argument will be `data`, and passing other arguments without an explicit keyword will result in an error or misinterpretation.\n",
      "  warnings.warn(\n"
     ]
    },
    {
     "data": {
      "text/plain": [
       "Text(0, 0.5, 'Province')"
      ]
     },
     "execution_count": 51,
     "metadata": {},
     "output_type": "execute_result"
    },
    {
     "data": {
      "image/png": "[encoded data removed]",
      "text/plain": [
       "<Figure size 432x288 with 1 Axes>"
      ]
     },
     "metadata": {
      "needs_background": "light"
     },
     "output_type": "display_data"
    }
   ],
   "source": [
    "sns.violinplot('REF_DATE', 'GEO', data = dataset)\n",
    "plt.xlabel('Year')\n",
    "plt.ylabel('Province')"
   ]
  },
  {
   "cell_type": "code",
   "execution_count": 40,
   "id": "aad4d834",
   "metadata": {
    "scrolled": true
   },
   "outputs": [
    {
     "name": "stderr",
     "output_type": "stream",
     "text": [
      "C:\\Users\\MOHAMMED AMER\\anaconda\\lib\\site-packages\\seaborn\\distributions.py:2557: FutureWarning: `distplot` is a deprecated function and will be removed in a future version. Please adapt your code to use either `displot` (a figure-level function with similar flexibility) or `histplot` (an axes-level function for histograms).\n",
      "  warnings.warn(msg, FutureWarning)\n"
     ]
    },
    {
     "data": {
      "text/plain": [
       "<AxesSubplot:xlabel='Skewness', ylabel='Density'>"
      ]
     },
     "execution_count": 40,
     "metadata": {},
     "output_type": "execute_result"
    },
    {
     "data": {
      "image/png": "[encoded data removed]",
      "text/plain": [
       "<Figure size 432x288 with 1 Axes>"
      ]
     },
     "metadata": {
      "needs_background": "light"
     },
     "output_type": "display_data"
    }
   ],
   "source": [
    "sns.distplot(dataset.skew(),color='blue',axlabel ='Skewness')"
   ]
  },
  {
   "cell_type": "code",
   "execution_count": 44,
   "id": "32ae8225",
   "metadata": {},
   "outputs": [
    {
     "data": {
      "text/plain": [
       "<AxesSubplot:>"
      ]
     },
     "execution_count": 44,
     "metadata": {},
     "output_type": "execute_result"
    },
    {
     "data": {
      "image/png": "[encoded data removed]",
      "text/plain": [
       "<Figure size 1800x720 with 1 Axes>"
      ]
     },
     "metadata": {
      "needs_background": "light"
     },
     "output_type": "display_data"
    }
   ],
   "source": [
    "import missingno as msno\n",
    "msno.dendrogram(dataset)"
   ]
  },
  {
   "cell_type": "code",
   "execution_count": 52,
   "id": "bce30b5b",
   "metadata": {},
   "outputs": [
    {
     "name": "stderr",
     "output_type": "stream",
     "text": [
      "C:\\Users\\MOHAMMED AMER\\anaconda\\lib\\site-packages\\seaborn\\distributions.py:2557: FutureWarning: `distplot` is a deprecated function and will be removed in a future version. Please adapt your code to use either `displot` (a figure-level function with similar flexibility) or `histplot` (an axes-level function for histograms).\n",
      "  warnings.warn(msg, FutureWarning)\n"
     ]
    },
    {
     "ename": "NameError",
     "evalue": "name 'stats' is not defined",
     "output_type": "error",
     "traceback": [
      "\u001b[1;31m---------------------------------------------------------------------------\u001b[0m",
      "\u001b[1;31mNameError\u001b[0m                                 Traceback (most recent call last)",
      "\u001b[1;32m<ipython-input-52-2f9d8cf7e615>\u001b[0m in \u001b[0;36m<module>\u001b[1;34m\u001b[0m\n\u001b[0;32m      1\u001b[0m \u001b[0msns\u001b[0m\u001b[1;33m.\u001b[0m\u001b[0mdistplot\u001b[0m\u001b[1;33m(\u001b[0m\u001b[0mdataset\u001b[0m\u001b[1;33m[\u001b[0m\u001b[1;34m'VALUE'\u001b[0m\u001b[1;33m]\u001b[0m\u001b[1;33m)\u001b[0m\u001b[1;33m;\u001b[0m\u001b[1;33m\u001b[0m\u001b[1;33m\u001b[0m\u001b[0m\n\u001b[0;32m      2\u001b[0m \u001b[0mfig\u001b[0m \u001b[1;33m=\u001b[0m \u001b[0mplt\u001b[0m\u001b[1;33m.\u001b[0m\u001b[0mfigure\u001b[0m\u001b[1;33m(\u001b[0m\u001b[1;33m)\u001b[0m\u001b[1;33m\u001b[0m\u001b[1;33m\u001b[0m\u001b[0m\n\u001b[1;32m----> 3\u001b[1;33m \u001b[0mres\u001b[0m \u001b[1;33m=\u001b[0m \u001b[0mstats\u001b[0m\u001b[1;33m.\u001b[0m\u001b[0mprobplot\u001b[0m\u001b[1;33m(\u001b[0m\u001b[0mdataset\u001b[0m\u001b[1;33m[\u001b[0m\u001b[1;34m'GEO'\u001b[0m\u001b[1;33m]\u001b[0m\u001b[1;33m)\u001b[0m\u001b[1;33m\u001b[0m\u001b[1;33m\u001b[0m\u001b[0m\n\u001b[0m",
      "\u001b[1;31mNameError\u001b[0m: name 'stats' is not defined"
     ]
    },
    {
     "data": {
      "image/png": "[encoded data removed]",
      "text/plain": [
       "<Figure size 432x288 with 1 Axes>"
      ]
     },
     "metadata": {
      "needs_background": "light"
     },
     "output_type": "display_data"
    },
    {
     "data": {
      "text/plain": [
       "<Figure size 432x288 with 0 Axes>"
      ]
     },
     "metadata": {},
     "output_type": "display_data"
    }
   ],
   "source": [
    "sns.distplot(dataset['VALUE']);\n",
    "fig = plt.figure()\n",
    "res = stats.probplot(dataset['GEO'])"
   ]
  }
 ],
 "metadata": {
  "kernelspec": {
   "display_name": "Python 3",
   "language": "python",
   "name": "python3"
  },
  "language_info": {
   "codemirror_mode": {
    "name": "ipython",
    "version": 3
   },
   "file_extension": ".py",
   "mimetype": "text/x-python",
   "name": "python",
   "nbconvert_exporter": "python",
   "pygments_lexer": "ipython3",
   "version": "3.8.8"
  }
 },
 "nbformat": 4,
 "nbformat_minor": 5
}
